{
 "cells": [
  {
   "cell_type": "code",
   "execution_count": 2,
   "id": "80844abe-3e22-4ab6-840c-03a4f2012ba1",
   "metadata": {},
   "outputs": [],
   "source": [
    "import nersc_tensorboard_helper\n",
    "%load_ext tensorboard"
   ]
  },
  {
   "cell_type": "code",
   "execution_count": 7,
   "id": "9d2b486c-6740-46ac-b6be-4f24141b9546",
   "metadata": {},
   "outputs": [
    {
     "data": {
      "text/html": [
       "\n",
       "      <iframe id=\"tensorboard-frame-1cf8d251891a98a8\" width=\"100%\" height=\"800\" frameborder=\"0\">\n",
       "      </iframe>\n",
       "      <script>\n",
       "        (function() {\n",
       "          const frame = document.getElementById(\"tensorboard-frame-1cf8d251891a98a8\");\n",
       "          const url = new URL(\"/\", window.location);\n",
       "          url.port = 36969;\n",
       "          frame.src = url;\n",
       "        })();\n",
       "      </script>\n",
       "  "
      ],
      "text/plain": [
       "<IPython.core.display.HTML object>"
      ]
     },
     "metadata": {},
     "output_type": "display_data"
    }
   ],
   "source": [
    "# %tensorboard --logdir /global/homes/x/xju/atlas/Herwig/Clusters1GeVNoPhotons/gnn_gnn/v2 --port 0\n",
    "\n",
    "%tensorboard --logdir /global/cfs/cdirs/atlas/xju/Herwig/Clusters1GeVNoPhotons/AnglesOnly/v1_564k/logs --port 0"
   ]
  },
  {
   "cell_type": "code",
   "execution_count": 8,
   "id": "59d05c6b-6602-4d6c-bb23-2c532b33a71b",
   "metadata": {},
   "outputs": [
    {
     "data": {
      "text/html": [
       "<a href=\"https://jupyter.nersc.gov/user/xju/cori-shared-node-cpu/proxy/36969/\">https://jupyter.nersc.gov/user/xju/cori-shared-node-cpu/proxy/36969/</a>"
      ],
      "text/plain": [
       "<IPython.core.display.HTML object>"
      ]
     },
     "metadata": {},
     "output_type": "display_data"
    }
   ],
   "source": [
    "nersc_tensorboard_helper.tb_address()"
   ]
  },
  {
   "cell_type": "code",
   "execution_count": null,
   "id": "389c9da2-c08d-4c23-9299-fd0b780757ee",
   "metadata": {},
   "outputs": [],
   "source": []
  }
 ],
 "metadata": {
  "kernelspec": {
   "display_name": "tensorflow-v2.0.0-cpu",
   "language": "python",
   "name": "tensorflow_intel_2.0.0-py37"
  },
  "language_info": {
   "codemirror_mode": {
    "name": "ipython",
    "version": 3
   },
   "file_extension": ".py",
   "mimetype": "text/x-python",
   "name": "python",
   "nbconvert_exporter": "python",
   "pygments_lexer": "ipython3",
   "version": "3.7.4"
  }
 },
 "nbformat": 4,
 "nbformat_minor": 5
}
