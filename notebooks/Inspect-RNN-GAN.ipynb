{
 "cells": [
  {
   "cell_type": "code",
   "execution_count": 1,
   "metadata": {},
   "outputs": [],
   "source": [
    "import os\n",
    "\n",
    "import matplotlib.pyplot as plt\n",
    "\n",
    "import numpy as np\n",
    "import tensorflow as tf\n",
    "import sonnet as snt\n",
    "\n",
    "from graph_nets import utils_tf\n",
    "from graph_nets import utils_np\n",
    "from graph_nets import graphs\n",
    "\n",
    "from gan4hep import rnn_mlp_gan as toGan\n",
    "from gan4hep.gan_base import GANOptimizer\n",
    "from gan4hep.graph import loop_dataset\n",
    "from gan4hep.graph import read_dataset"
   ]
  },
  {
   "cell_type": "code",
   "execution_count": 2,
   "metadata": {},
   "outputs": [],
   "source": [
    "batch_size = 1000\n",
    "n_batches = 5 # 14\n",
    "noise_dim = 12\n",
    "disc_num_iters = 4\n",
    "use_pt_eta_phi_E = True\n",
    "# output_dir = '/global/homes/x/xju/work/Herwig/PrimaryOnly/mlpGAN/v1'\n",
    "# output_dir = '/global/homes/x/xju/work/Herwig/PrimaryOnly/rnnGAN/v4'\n",
    "output_dir = '/global/homes/x/xju/work/Herwig/PrimaryOnly_NewRepo/rnnGAN/v6'\n",
    "test_data_name = '/global/homes/x/xju/work/Herwig/PrimaryOnly_1M/inputs/test/primary_11.tfrec'\n",
    "# test_data_name = '/global/homes/x/xju/work/Herwig/PrimaryOnly_NewRepo/inputs/test/primary_1*.tfrec'"
   ]
  },
  {
   "cell_type": "code",
   "execution_count": 3,
   "metadata": {},
   "outputs": [],
   "source": [
    "gan = toGan.GAN()"
   ]
  },
  {
   "cell_type": "code",
   "execution_count": 4,
   "metadata": {},
   "outputs": [],
   "source": [
    "optimizer = GANOptimizer(\n",
    "    gan,\n",
    "    batch_size=batch_size,\n",
    "    noise_dim=noise_dim,\n",
    "    num_epcohs=1,\n",
    "    with_disc_reg=True\n",
    ")"
   ]
  },
  {
   "cell_type": "code",
   "execution_count": 5,
   "metadata": {},
   "outputs": [],
   "source": [
    "ckpt_dir = os.path.join(output_dir, \"checkpoints\")\n",
    "checkpoint = tf.train.Checkpoint(\n",
    "    optimizer=optimizer,\n",
    "    gan=gan)"
   ]
  },
  {
   "cell_type": "code",
   "execution_count": 6,
   "metadata": {},
   "outputs": [],
   "source": [
    "ckpt_manager = tf.train.CheckpointManager(checkpoint, directory=ckpt_dir,\n",
    "                            max_to_keep=5, keep_checkpoint_every_n_hours=8)"
   ]
  },
  {
   "cell_type": "code",
   "execution_count": 7,
   "metadata": {},
   "outputs": [],
   "source": [
    "_ = checkpoint.restore(ckpt_manager.latest_checkpoint)"
   ]
  },
  {
   "cell_type": "code",
   "execution_count": 8,
   "metadata": {},
   "outputs": [],
   "source": [
    "def plot_ratio(tot, sel, label_tot, label_sel,\n",
    "                    xlabel, title, **plot_options):\n",
    "                    \n",
    "    from more_itertools import pairwise\n",
    "#     plt.clf()\n",
    "    fig, (ax0, ax1) = plt.subplots(2, 1, figsize=(5, 6), sharex=True, gridspec_kw={'height_ratios':[4, 1]})\n",
    "    fig.subplots_adjust(hspace=0)\n",
    "\n",
    "    val_tot, bins, _ = ax0.hist(tot, label=label_tot, **plot_options)\n",
    "    val_sel, bins, _ = ax0.hist(sel, label=label_sel, **plot_options)\n",
    "    ax0.legend(fontsize=14, loc='upper right')\n",
    "    ax0.set_title(title)\n",
    "\n",
    "    ratio = [x/y if y != 0 else 0. for x,y in zip(val_sel, val_tot)][:-1]\n",
    "    xvals = [0.5*(x[0]+x[1]) for x in pairwise(bins)][1:]\n",
    "    ax1.plot(xvals, ratio, 'o-', label='ratio', lw=2, markersize=5)\n",
    "    ax1.set_xlabel(xlabel)\n",
    "    ax1.set_ylabel('ratio')\n",
    "    ax1.set_ylim(-5.2, 5.2)"
   ]
  },
  {
   "cell_type": "code",
   "execution_count": 9,
   "metadata": {},
   "outputs": [],
   "source": [
    "def visiual(predicts, truths, ngen):\n",
    "#     predicts = predicts * node_abs_max[1:]\n",
    "#     truths = truths * node_abs_max[1:]\n",
    "    \n",
    "    hist_config = {\n",
    "        \"alpha\": 0.8,\n",
    "        \"lw\": 2,\n",
    "        'histtype': 'step',\n",
    "    }\n",
    "    nbins = 40\n",
    "    max_x = 1.2\n",
    "    config_4vector = [\n",
    "        dict([(\"bins\",nbins), (\"range\",(-max_x, max_x))]),\n",
    "        dict([(\"bins\",nbins), (\"range\",(-max_x, max_x))]),\n",
    "        dict([(\"bins\",nbins), (\"range\",(-max_x, max_x))]),\n",
    "        dict([(\"bins\",nbins), (\"range\",(-max_x, max_x))])\n",
    "    ]\n",
    "    \n",
    "    xr = 20\n",
    "    nbinsd = 80\n",
    "    config_4vectord = [\n",
    "        dict([(\"bins\",nbinsd), (\"range\",(-xr, xr))]),\n",
    "        dict([(\"bins\",nbinsd), (\"range\",(-xr, xr))]),\n",
    "        dict([(\"bins\",nbinsd), (\"range\",(-xr, xr))]),\n",
    "        dict([(\"bins\",nbinsd), (\"range\",(-xr, xr))]),\n",
    "    ]\n",
    "\n",
    "    xlabels_diff = [\n",
    "        '($E_\\mathrm{predict}-E_\\mathrm{true}$/$E_\\mathrm{true}$ [GeV]',\n",
    "        '($p_\\mathrm{predict}^{x}-p_\\mathrm{true}^{x}$)/$p_\\mathrm{true}^{x}$ [GeV]',\n",
    "        '($p_\\mathrm{predict}^{y}-p_\\mathrm{true}^{y}$)/$p_\\mathrm{true}^{y}$ [GeV]',\n",
    "        '($p_\\mathrm{predict}^{z}-p_\\mathrm{true}^{z}$)/$p_\\mathrm{true}^{z}$ [GeV]'\n",
    "    ]\n",
    "    if use_pt_eta_phi_E:\n",
    "        xlabels = ['pT [GeV]', 'eta [GeV]', 'phi [GeV]', 'E [GeV]']\n",
    "    else:\n",
    "        xlabels = ['E [GeV]', 'px [GeV]', 'py [GeV]', 'pz [GeV]']\n",
    "\n",
    "    xp = [2]*4\n",
    "    yp = np.array([500] + [250]*3)\n",
    "    dy = np.array([50] + [25]*3)\n",
    "    \n",
    "    def plot_4vector(offset):\n",
    "        _, axs = plt.subplots(2,2, figsize=(10,10), constrained_layout=True)\n",
    "        axs = axs.flatten()\n",
    "        for ix in range(4):\n",
    "            idx = ix\n",
    "            axs[ix].hist(predicts[:, offset, idx], **hist_config, **config_4vector[ix], label=\"prediction\")\n",
    "            axs[ix].hist(truths[:, offset, idx], **hist_config, **config_4vector[ix], label=\"truth\")\n",
    "            axs[ix].set_xlabel(xlabels[ix])\n",
    "        axs[ix].legend(loc='upper right')\n",
    "            \n",
    "\n",
    "    def plot_4vector2(offset):\n",
    "        for ix in range(4):\n",
    "            idx = ix\n",
    "            plot_ratio(truths[:, offset, idx], predicts[:, offset, idx], \"truth\", \"prediction\", xlabels[ix], \"\", **hist_config, **config_4vector[ix])        \n",
    "    \n",
    "            \n",
    "    for idx in range(2):\n",
    "        plot_4vector(idx)"
   ]
  },
  {
   "cell_type": "code",
   "execution_count": 10,
   "metadata": {},
   "outputs": [],
   "source": [
    "node_abs_max = np.array([\n",
    "    [49.1, 47.7, 46.0, 47.0],\n",
    "    [46.2, 40.5, 41.0, 39.5],\n",
    "    [42.8, 36.4, 37.0, 35.5]\n",
    "], dtype=np.float32)\n",
    "\n",
    "node_mean = np.array([\n",
    "    [14.13, 0.05, -0.10, -0.04], \n",
    "    [7.73, 0.02, -0.04, -0.08],\n",
    "    [6.41, 0.04, -0.06, 0.04]\n",
    "], dtype=np.float32)\n",
    "\n",
    "node_scales = np.array([\n",
    "    [13.29, 10.54, 10.57, 12.20], \n",
    "    [8.62, 6.29, 6.35, 7.29],\n",
    "    [6.87, 5.12, 5.13, 5.90]\n",
    "], dtype=np.float32)\n",
    "\n",
    "\n",
    "max_energy_px_py_pz = np.array([49.1, 47.7, 46.0, 47.0], dtype=np.float32)\n",
    "max_pt_eta_phi_energy = np.array([50, 5, np.pi, 50], dtype=np.float32)\n",
    "\n",
    "def get_pt_eta_phi(px, py, pz):\n",
    "    p = np.sqrt(px**2 + py**2 + pz**2)\n",
    "    pt = np.sqrt(px**2 + py**2)\n",
    "    phi = np.arctan2(py, px)\n",
    "    theta = np.arccos(pz/p)\n",
    "    eta = -np.log(np.tan(0.5*theta))\n",
    "    return pt,eta,phi\n",
    "\n",
    "def normalize(inputs, targets):\n",
    "    if use_pt_eta_phi_E:\n",
    "        # inputs\n",
    "        pt, eta, phi = get_pt_eta_phi(\n",
    "            inputs.nodes[:, 1], inputs.nodes[:, 2], inputs.nodes[:, 3])\n",
    "        input_nodes = np.stack([pt, eta, phi, inputs.nodes[:, 0]], axis=1) / max_pt_eta_phi_energy\n",
    "        # outputs\n",
    "        o_pt, o_eta, o_phi = get_pt_eta_phi(\n",
    "            targets.nodes[:, 1], targets.nodes[:, 2], targets.nodes[:, 3])\n",
    "        target_nodes = np.stack([o_pt, o_eta, o_phi, targets.nodes[:, 0]], axis=1) / max_pt_eta_phi_energy\n",
    "    else:            \n",
    "        input_nodes = (inputs.nodes - node_mean[0])/node_scales[0]\n",
    "        target_nodes = targets.nodes / max_energy_px_py_pz\n",
    "    target_nodes = np.reshape(target_nodes, [batch_size, -1])\n",
    "    return input_nodes, target_nodes"
   ]
  },
  {
   "cell_type": "code",
   "execution_count": 11,
   "metadata": {},
   "outputs": [],
   "source": [
    "def run_generator(filename, ngen=1000):\n",
    "    dataset, n_graphs = read_dataset(test_data_name)\n",
    "    print(\"total {} graphs iterated with batch size of {} and {} batches\".format(n_graphs, batch_size, n_batches))\n",
    "    print('averaging {} geneveted events for each input'.format(ngen))\n",
    "    test_data = loop_dataset(dataset, batch_size)\n",
    "\n",
    "    predict_4vec = []\n",
    "    truth_4vec = []\n",
    "    for ib in range(n_batches):\n",
    "        inputs, targets = next(test_data)\n",
    "        input_nodes, target_nodes = normalize(inputs, targets)\n",
    "#         print(input_nodes.shape)\n",
    "#         print(target_nodes.shape)\n",
    "#         print(input_nodes[0])\n",
    "#         print(target_nodes[0])\n",
    "        \n",
    "        gen_evts = []\n",
    "        for igen in range(ngen):\n",
    "            noises = tf.random.normal([batch_size, noise_dim], dtype=tf.float32)\n",
    "            inputs = tf.concat([input_nodes, noises], axis=-1)\n",
    "            gen_graph = gan.generate(inputs)\n",
    "            gen_evts.append(gen_graph)\n",
    "        \n",
    "        gen_evts = tf.reduce_mean(tf.stack(gen_evts), axis=0)\n",
    "#         print(gen_evts)\n",
    "#         gen_evts = tf.concat(gen_evts, axis=0)\n",
    "        \n",
    "        predict_4vec.append(tf.reshape(gen_evts, [batch_size, -1, 4]))\n",
    "        truth_4vec.append(tf.reshape(target_nodes, [batch_size, -1, 4])[:, 1:, :])\n",
    "        \n",
    "    predict_4vec = tf.concat(predict_4vec, axis=0)\n",
    "    truth_4vec = tf.concat(truth_4vec, axis=0)\n",
    "    return predict_4vec, truth_4vec"
   ]
  },
  {
   "cell_type": "code",
   "execution_count": 12,
   "metadata": {},
   "outputs": [],
   "source": [
    "def check_file(filename, ngen=1000, reuse=True):\n",
    "    outname = os.path.basename(filename).split('.')[0] + \"_test.npz\"\n",
    "    if os.path.exists(outname) and reuse:\n",
    "        print(\"Reuse the existing generated events\")\n",
    "        array = np.load(outname)\n",
    "        predict_4vec = array['predict_4vec']\n",
    "        truth_4vec = array['truth_4vec']\n",
    "    else:\n",
    "        predict_4vec, truth_4vec = run_generator(filename, ngen)\n",
    "        predict_4vec = predict_4vec.numpy()\n",
    "        truth_4vec = truth_4vec.numpy()\n",
    "        np.savez(outname, predict_4vec=predict_4vec, truth_4vec=truth_4vec)\n",
    "\n",
    "    visiual(predict_4vec, truth_4vec, ngen)"
   ]
  },
  {
   "cell_type": "code",
   "execution_count": 13,
   "metadata": {},
   "outputs": [
    {
     "name": "stdout",
     "output_type": "stream",
     "text": [
      "total 5000 graphs iterated with batch size of 1000 and 5 batches\n",
      "averaging 1 geneveted events for each input\n"
     ]
    },
    {
     "data": {
      "image/png": "[encoded data removed]",
      "text/plain": [
       "<Figure size 720x720 with 4 Axes>"
      ]
     },
     "metadata": {
      "needs_background": "light"
     },
     "output_type": "display_data"
    },
    {
     "data": {
      "image/png": "[encoded data removed]",
      "text/plain": [
       "<Figure size 720x720 with 4 Axes>"
      ]
     },
     "metadata": {
      "needs_background": "light"
     },
     "output_type": "display_data"
    }
   ],
   "source": [
    "check_file(test_data_name, ngen=1, reuse=False)"
   ]
  },
  {
   "cell_type": "code",
   "execution_count": null,
   "metadata": {},
   "outputs": [],
   "source": []
  },
  {
   "cell_type": "code",
   "execution_count": null,
   "metadata": {},
   "outputs": [],
   "source": []
  },
  {
   "cell_type": "code",
   "execution_count": 14,
   "metadata": {},
   "outputs": [],
   "source": [
    "import numpy as np"
   ]
  },
  {
   "cell_type": "code",
   "execution_count": 15,
   "metadata": {},
   "outputs": [],
   "source": [
    "a = np.zeros((10))\n",
    "b = np.ones((10))"
   ]
  },
  {
   "cell_type": "code",
   "execution_count": 16,
   "metadata": {},
   "outputs": [
    {
     "data": {
      "text/plain": [
       "array([[0., 1.],\n",
       "       [0., 1.],\n",
       "       [0., 1.],\n",
       "       [0., 1.],\n",
       "       [0., 1.],\n",
       "       [0., 1.],\n",
       "       [0., 1.],\n",
       "       [0., 1.],\n",
       "       [0., 1.],\n",
       "       [0., 1.]])"
      ]
     },
     "execution_count": 16,
     "metadata": {},
     "output_type": "execute_result"
    }
   ],
   "source": [
    "np.stack([a, b], axis=1)"
   ]
  },
  {
   "cell_type": "code",
   "execution_count": null,
   "metadata": {},
   "outputs": [],
   "source": []
  }
 ],
 "metadata": {
  "kernelspec": {
   "display_name": "a-herwig",
   "language": "python",
   "name": "herwig"
  },
  "language_info": {
   "codemirror_mode": {
    "name": "ipython",
    "version": 3
   },
   "file_extension": ".py",
   "mimetype": "text/x-python",
   "name": "python",
   "nbconvert_exporter": "python",
   "pygments_lexer": "ipython3",
   "version": "3.8.8"
  }
 },
 "nbformat": 4,
 "nbformat_minor": 4
}
